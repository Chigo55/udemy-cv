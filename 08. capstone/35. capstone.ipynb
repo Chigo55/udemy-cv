{
 "cells": [
  {
   "cell_type": "code",
   "execution_count": 1,
   "metadata": {},
   "outputs": [],
   "source": [
    "import cv2\n",
    "import numpy as np\n",
    "from sklearn.metrics import pairwise"
   ]
  },
  {
   "cell_type": "code",
   "execution_count": 2,
   "metadata": {},
   "outputs": [],
   "source": [
    "background = None\n",
    "\n",
    "accumulated_weight = 0.5\n",
    "\n",
    "roi_top = 20\n",
    "roi_bottom = 300\n",
    "roi_right = 600\n",
    "roi_left = 600"
   ]
  },
  {
   "cell_type": "code",
   "execution_count": 3,
   "metadata": {},
   "outputs": [],
   "source": [
    "def calc_accum_avg(frame, accumulated_weight):\n",
    "    global background\n",
    "\n",
    "    if background is None:\n",
    "        background = frame.copy().astype('float')\n",
    "        return None\n",
    "    \n",
    "    cv2.accumulateWeighted(frame, background, accumulated_weight)"
   ]
  },
  {
   "cell_type": "code",
   "execution_count": 4,
   "metadata": {},
   "outputs": [],
   "source": [
    "def segment(frame, threshold=25):\n",
    "    diff = cv2.absdiff(background.astype('uint8'). frame)\n",
    "    ret, thresholded = cv2.threshold(diff, threshold, 255, cv2.THRESH_BINARY)\n",
    "    image, contours, hierarchy = cv2.findContours(thresholded.copy(), cv2.RETR_EXTERNAL, cv2.CHAIN_APPROX_SIMPLE)\n",
    "\n",
    "    if len(contours) == 0:\n",
    "        return None\n",
    "    else:\n",
    "        hand_segment = max(contours, key=cv2.contourArea)\n",
    "        return (thresholded, hand_segment)"
   ]
  },
  {
   "cell_type": "code",
   "execution_count": 5,
   "metadata": {},
   "outputs": [],
   "source": [
    "def count_fingers(thresholded, hand_segment):\n",
    "    conv_hull = cv2.convexHull(hand_segment)\n",
    "\n",
    "    top    = tuple(conv_hull[conv_hull[:, :, 1].argmin()[0]])\n",
    "    bottom = tuple(conv_hull[conv_hull[:, :, 1].argmax()[0]])\n",
    "    right  = tuple(conv_hull[conv_hull[:, :, 0].argmin()[0]])\n",
    "    left   = tuple(conv_hull[conv_hull[:, :, 0].argmax()[0]])\n",
    "\n",
    "    cX = (left[0] + right[0]) // 2\n",
    "    cY = (top[1], + bottom[1]) // 2\n",
    "\n",
    "    distance = pairwise.euclidean_distances([cX,cY], Y=[left, right, top, bottom])[0]\n",
    "\n",
    "    max_distance = distance.max()\n",
    "\n",
    "    radius = int(0.9 * max_distance)\n",
    "    citcumfrence = (2 * np.pi * radius)\n",
    "\n",
    "    circular_roi = np.zeros(thresholded[:2], dtype='uint8')\n",
    "    cv2.circle(circular_roi, (cX,cY), radius, 255, 10)\n",
    "\n",
    "    circular_roi = cv2.bitwise_and(thresholded, thresholded, mask=circular_roi)\n",
    "\n",
    "    image, contours, hierarchy = cv2.findContours(circular_roi.copy(), cv2.RETR_EXTERNAL, cv2.CHAIN_APPROX_SIMPLE)\n",
    "\n",
    "    count = 0\n",
    "\n",
    "    for cnt in contours:\n",
    "        (x,y,w,h) = cv2.boundingRect(cnt)\n",
    "\n",
    "        out_of_wrist = (cY + (cY*0.25)) > (y+h)\n",
    "        limit_points = ((citcumfrence * 0.25) > cnt.shape[0])\n",
    "\n",
    "        if out_of_wrist and limit_points:\n",
    "            count += 1\n",
    "\n",
    "    return count"
   ]
  },
  {
   "cell_type": "code",
   "execution_count": 6,
   "metadata": {},
   "outputs": [
    {
     "ename": "error",
     "evalue": "OpenCV(4.9.0) D:\\a\\opencv-python\\opencv-python\\opencv\\modules\\imgproc\\src\\color.cpp:196: error: (-215:Assertion failed) !_src.empty() in function 'cv::cvtColor'\n",
     "output_type": "error",
     "traceback": [
      "\u001b[1;31m---------------------------------------------------------------------------\u001b[0m",
      "\u001b[1;31merror\u001b[0m                                     Traceback (most recent call last)",
      "Cell \u001b[1;32mIn[6], line 11\u001b[0m\n\u001b[0;32m      7\u001b[0m frame_copy \u001b[38;5;241m=\u001b[39m frame\u001b[38;5;241m.\u001b[39mcopy()\n\u001b[0;32m      9\u001b[0m roi \u001b[38;5;241m=\u001b[39m frame[roi_top:roi_bottom, roi_right:roi_left]\n\u001b[1;32m---> 11\u001b[0m gray \u001b[38;5;241m=\u001b[39m \u001b[43mcv2\u001b[49m\u001b[38;5;241;43m.\u001b[39;49m\u001b[43mcvtColor\u001b[49m\u001b[43m(\u001b[49m\u001b[43mroi\u001b[49m\u001b[43m,\u001b[49m\u001b[43m \u001b[49m\u001b[43mcv2\u001b[49m\u001b[38;5;241;43m.\u001b[39;49m\u001b[43mCOLOR_BGR2GRAY\u001b[49m\u001b[43m)\u001b[49m\n\u001b[0;32m     13\u001b[0m gray \u001b[38;5;241m=\u001b[39m cv2\u001b[38;5;241m.\u001b[39mGaussianBlur(gray, (\u001b[38;5;241m7\u001b[39m,\u001b[38;5;241m7\u001b[39m), \u001b[38;5;241m0\u001b[39m)\n\u001b[0;32m     15\u001b[0m \u001b[38;5;28;01mif\u001b[39;00m num_frames \u001b[38;5;241m<\u001b[39m \u001b[38;5;241m60\u001b[39m:\n",
      "\u001b[1;31merror\u001b[0m: OpenCV(4.9.0) D:\\a\\opencv-python\\opencv-python\\opencv\\modules\\imgproc\\src\\color.cpp:196: error: (-215:Assertion failed) !_src.empty() in function 'cv::cvtColor'\n"
     ]
    }
   ],
   "source": [
    "cam = cv2.VideoCapture(0)\n",
    "\n",
    "num_frames = 0\n",
    "\n",
    "while True:\n",
    "    ret, frame = cam.read()\n",
    "    frame_copy = frame.copy()\n",
    "\n",
    "    roi = frame[roi_top:roi_bottom, roi_right:roi_left]\n",
    "\n",
    "    gray = cv2.cvtColor(roi, cv2.COLOR_BGR2GRAY)\n",
    "\n",
    "    gray = cv2.GaussianBlur(gray, (7,7), 0)\n",
    "\n",
    "    if num_frames < 60:\n",
    "        calc_accum_avg(gray, accumulated_weight)\n",
    "\n",
    "        if num_frames <= 59:\n",
    "            cv2.putText(frame_copy, 'WAIT, GETTING BACKGROUND', (200, 300), cv2.FONT_HERSHEY_SIMPLEX, 1, (0,0,255), 2)\n",
    "            cv2.imshow('Finger Count', frame_copy)\n",
    "\n",
    "    else:\n",
    "        hand = segment(gray)\n",
    "\n",
    "        if hand is not None:\n",
    "            thresholded, hand_segment = hand\n",
    "            cv2.drawContours(frame_copy[hand_segment + (roi_right,roi_top)], -1, (255,0,0), 5)\n",
    "            fingers = count_fingers(thresholded, hand_segment)\n",
    "\n",
    "            cv2.putText(frame_copy, str(fingers), (70,50), cv2.FONT_HERSHEY_SIMPLEX, 1, (0,0,255), 2)\n",
    "            cv2.imshow('Thresholded', thresholded)\n",
    "    \n",
    "    cv2.rectangle(frame_copy, (roi_left,roi_top), (roi_right, roi_bottom), (0,0,255), 5)\n",
    "    num_frames += 1\n",
    "\n",
    "    cv2.imshow('Finger Count', frame_copy)\n",
    "\n",
    "    if cv2.waitKey(1) & 0xff == 27:\n",
    "        break\n",
    "\n",
    "cam.release()\n",
    "cv2.destroyAllWindows()"
   ]
  }
 ],
 "metadata": {
  "kernelspec": {
   "display_name": "udemy-cv",
   "language": "python",
   "name": "python3"
  },
  "language_info": {
   "codemirror_mode": {
    "name": "ipython",
    "version": 3
   },
   "file_extension": ".py",
   "mimetype": "text/x-python",
   "name": "python",
   "nbconvert_exporter": "python",
   "pygments_lexer": "ipython3",
   "version": "3.9.19"
  }
 },
 "nbformat": 4,
 "nbformat_minor": 2
}
